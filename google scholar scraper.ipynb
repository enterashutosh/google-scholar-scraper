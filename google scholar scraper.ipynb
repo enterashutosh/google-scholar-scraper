{
 "cells": [
  {
   "cell_type": "markdown",
   "metadata": {},
   "source": [
    "Setup"
   ]
  },
  {
   "cell_type": "code",
   "execution_count": 22,
   "metadata": {},
   "outputs": [],
   "source": [
    "import time\n",
    "import random\n",
    "from selenium import webdriver\n",
    "from selenium.webdriver.chrome.options import Options\n",
    "from selenium.webdriver.common.by import By\n",
    "from selenium.webdriver.common.action_chains import ActionChains\n",
    "from fake_useragent import UserAgent\n",
    "import pandas as pd"
   ]
  },
  {
   "cell_type": "code",
   "execution_count": 23,
   "metadata": {},
   "outputs": [],
   "source": [
    "# Set up the Chrome driver\n",
    "options = Options()\n",
    "\n",
    "# Tune the Driver with Argumentations\n",
    "# options.add_argument(\"--headless\")  # Run headless Chrome\n",
    "# options.add_argument(\"--no-sandbox\")\n",
    "ua = UserAgent()\n",
    "options.add_argument(f\"user-agent={ua.random}\")"
   ]
  },
  {
   "cell_type": "markdown",
   "metadata": {},
   "source": [
    "Given"
   ]
  },
  {
   "cell_type": "code",
   "execution_count": 24,
   "metadata": {},
   "outputs": [],
   "source": [
    "Scholars_list = [\"Cass Sunstein\", \"Tom Tyler\", \"W. Kip Viscusi\", \"Lawrence Gostin\", \"Mark Lemley\", \"Lucian Bebchuk\", \"John Monahan\", \"Alan Auerbach\", \"Eric Posner\", \"Richard Delgado\"]"
   ]
  },
  {
   "cell_type": "code",
   "execution_count": 25,
   "metadata": {},
   "outputs": [],
   "source": [
    "df = pd.DataFrame(columns=['Professor Name', 'Affiliation', 'Total Number of Citations', 'h-index', 'i10-index', 'Most Cited Paper', 'Research Fields'])"
   ]
  },
  {
   "cell_type": "code",
   "execution_count": 26,
   "metadata": {},
   "outputs": [],
   "source": [
    "# Global variables to store scraped data\n",
    "name, affiliation, most_cited_paper, research_fields, citation_count, h_index, i10_index = None, None, None, None, None, None, None"
   ]
  },
  {
   "cell_type": "code",
   "execution_count": 27,
   "metadata": {},
   "outputs": [],
   "source": [
    "# Flag to track if we’ve already switched to the author list\n",
    "switched_to_author_list = False"
   ]
  },
  {
   "cell_type": "code",
   "execution_count": 28,
   "metadata": {},
   "outputs": [],
   "source": [
    "driver = webdriver.Chrome(options=options)\n",
    "driver.get(\"https://scholar.google.com/\")\n",
    "#driver.maximize_window()\n",
    "time.sleep(random.uniform(2, 4))  # Random delay"
   ]
  },
  {
   "cell_type": "code",
   "execution_count": null,
   "metadata": {},
   "outputs": [],
   "source": [
    "# cookies\n",
    "cookies = [\n",
    "    {'name': 'name', 'value': 'value'},\n",
    "    {'name': 'name', 'value': 'value'},\n",
    "    {'name': 'name', 'value': 'value'},\n",
    "    {'name': 'name', 'value': 'value'}\n",
    "]"
   ]
  },
  {
   "cell_type": "code",
   "execution_count": null,
   "metadata": {},
   "outputs": [],
   "source": [
    "def load_cookies(driver, cookies):\n",
    "    for cookie in cookies:\n",
    "        driver.add_cookie(cookie)"
   ]
  },
  {
   "cell_type": "code",
   "execution_count": null,
   "metadata": {},
   "outputs": [],
   "source": [
    "load_cookies(driver, cookies)"
   ]
  },
  {
   "cell_type": "code",
   "execution_count": 29,
   "metadata": {},
   "outputs": [],
   "source": [
    "# To avoid CAPTCHA\n",
    "def fake_human_behavior(driver):\n",
    "    \n",
    "    '''# Random mouse movements\n",
    "    actions = ActionChains(driver)\n",
    "    \n",
    "    # Simulate moving the mouse to a random position within the viewport\n",
    "    x_offset = random.randint(0, 500)  # Adjust based on your viewport size\n",
    "    y_offset = random.randint(0, 500)  # Adjust based on your viewport size\n",
    "    actions.move_by_offset(x_offset, y_offset).perform()\n",
    "    time.sleep(random.uniform(0.5, 1.5))  # Pause after moving the mouse\n",
    "\n",
    "    # Scroll down randomly\n",
    "    scroll_amount = random.randint(200, 800)  # Adjust scroll amount\n",
    "    driver.execute_script(f\"window.scrollBy(0, {scroll_amount});\")'''\n",
    "    \n",
    "    time.sleep(random.uniform(1, 2))"
   ]
  },
  {
   "cell_type": "markdown",
   "metadata": {},
   "source": [
    "Functions"
   ]
  },
  {
   "cell_type": "code",
   "execution_count": 30,
   "metadata": {},
   "outputs": [],
   "source": [
    "# one time use only\n",
    "#search_bar = driver.find_element(By.CSS_SELECTOR, 'input#gs_hdr_tsi')"
   ]
  },
  {
   "cell_type": "code",
   "execution_count": 31,
   "metadata": {},
   "outputs": [],
   "source": [
    "# Function to search for a professor\n",
    "def search_professor(professor_name):\n",
    "    search_bar = driver.find_element(By.CSS_SELECTOR, 'input#gs_hdr_tsi')\n",
    "    search_bar.send_keys(professor_name)\n",
    "    search_bar.submit()\n",
    "\n",
    "    fake_human_behavior(driver)"
   ]
  },
  {
   "cell_type": "code",
   "execution_count": 32,
   "metadata": {},
   "outputs": [],
   "source": [
    "# Function to switch to the author list (only the first time)\n",
    "def switch_to_author_list():\n",
    "    global switched_to_author_list\n",
    "    if not switched_to_author_list:\n",
    "        try:\n",
    "            profile_switch = driver.find_element(By.XPATH, \"//h3/a[contains(@href, '/')]\")\n",
    "            profile_switch.click()\n",
    "            switched_to_author_list = True  # Set the flag to True, so this doesn't run again\n",
    "        except Exception as e:\n",
    "            print(f\"Error switching to author list: {e}\")"
   ]
  },
  {
   "cell_type": "code",
   "execution_count": 33,
   "metadata": {},
   "outputs": [],
   "source": [
    "# Function to select the first profile\n",
    "def select_first_profile():\n",
    "    try:\n",
    "        profile_link = driver.find_element(By.XPATH, \"//h3/a[contains(@href, '/')]\")\n",
    "        profile_link.click()\n",
    "        return True\n",
    "    except Exception as e:\n",
    "        print(f\"Error selecting profile: {e}\")\n",
    "        return False\n",
    "    \n",
    "    fake_human_behavior(driver)"
   ]
  },
  {
   "cell_type": "code",
   "execution_count": 34,
   "metadata": {},
   "outputs": [],
   "source": [
    "# Function to scrape the textual profile details (name, affiliation, most cited paper, research fields)\n",
    "def scrape_text():\n",
    "    global name, affiliation, most_cited_paper, research_fields\n",
    "    try:\n",
    "        name = driver.find_element(By.CSS_SELECTOR, \"div#gsc_prf_in\").text\n",
    "        affiliation = driver.find_element(By.CSS_SELECTOR, \"div.gsc_prf_il:nth-of-type(2)\").text\n",
    "        most_cited_paper = driver.find_element(By.XPATH, \"//tr[@class='gsc_a_tr'][1]//a[@class='gsc_a_at']\").text\n",
    "        research_fields = \",\\n\".join([field.text for field in driver.find_elements(By.CSS_SELECTOR, \"div.gsc_prf_il#gsc_prf_int a\")])\n",
    "    except Exception as e:\n",
    "        print(f\"Error scraping textual profile: {e}\")\n",
    "    \n",
    "    fake_human_behavior(driver)"
   ]
  },
  {
   "cell_type": "code",
   "execution_count": 35,
   "metadata": {},
   "outputs": [],
   "source": [
    "# Switch to the 'CITED BY' tab\n",
    "def toggle_data_tab():\n",
    "        data_tab_toggle = driver.find_element(By.LINK_TEXT, \"CITED BY\")\n",
    "        data_tab_toggle.click()\n",
    "        fake_human_behavior(driver)"
   ]
  },
  {
   "cell_type": "code",
   "execution_count": 36,
   "metadata": {},
   "outputs": [],
   "source": [
    "# Function to switch to the 'CITED BY' tab and scrape the stats (citations, h-index, i10-index)\n",
    "def scrape_stats():\n",
    "    global citation_count, h_index, i10_index\n",
    "    try:\n",
    "        citation_count = driver.find_element(By.XPATH, \"//tr[1]//td[@class='gsc_rsb_std'][1]\").text\n",
    "        h_index = driver.find_element(By.XPATH, \"//tr[2]/td[@class='gsc_rsb_std'][1]\").text\n",
    "        i10_index = driver.find_element(By.XPATH, \"//tr[3]/td[@class='gsc_rsb_std'][1]\").text\n",
    "    except Exception as e:\n",
    "        print(f\"Error scraping stats: {e}\")\n",
    "    \n",
    "    fake_human_behavior(driver)"
   ]
  },
  {
   "cell_type": "code",
   "execution_count": 37,
   "metadata": {},
   "outputs": [],
   "source": [
    "# Function to return to the search page after scraping\n",
    "def return_to_search():\n",
    "    search_btn = driver.find_element(By.CSS_SELECTOR, \"a#gs_hdr_sre span.gs_ico\")\n",
    "    search_btn.click()\n",
    "    fake_human_behavior(driver)"
   ]
  },
  {
   "cell_type": "markdown",
   "metadata": {},
   "source": [
    "Scraping loop"
   ]
  },
  {
   "cell_type": "code",
   "execution_count": 38,
   "metadata": {},
   "outputs": [
    {
     "ename": "MoveTargetOutOfBoundsException",
     "evalue": "Message: move target out of bounds\n  (Session info: chrome=129.0.6668.70)\nStacktrace:\n\tGetHandleVerifier [0x00007FF69919FDA5+29557]\n\t(No symbol) [0x00007FF699112240]\n\t(No symbol) [0x00007FF698FCB519]\n\t(No symbol) [0x00007FF6990726FF]\n\t(No symbol) [0x00007FF6990474FA]\n\t(No symbol) [0x00007FF6990688A3]\n\t(No symbol) [0x00007FF6990472A3]\n\t(No symbol) [0x00007FF6990112DF]\n\t(No symbol) [0x00007FF699012451]\n\tGetHandleVerifier [0x00007FF6994CDCBD+3363469]\n\tGetHandleVerifier [0x00007FF699519B47+3674391]\n\tGetHandleVerifier [0x00007FF69950EAEB+3629243]\n\tGetHandleVerifier [0x00007FF69925FC66+815670]\n\t(No symbol) [0x00007FF69911D6EF]\n\t(No symbol) [0x00007FF6991192B4]\n\t(No symbol) [0x00007FF699119450]\n\t(No symbol) [0x00007FF6991081FF]\n\tBaseThreadInitThunk [0x00007FF8437D257D+29]\n\tRtlUserThreadStart [0x00007FF844FCAF28+40]\n",
     "output_type": "error",
     "traceback": [
      "\u001b[1;31m---------------------------------------------------------------------------\u001b[0m",
      "\u001b[1;31mMoveTargetOutOfBoundsException\u001b[0m            Traceback (most recent call last)",
      "Cell \u001b[1;32mIn[38], line 19\u001b[0m\n\u001b[0;32m     16\u001b[0m \u001b[38;5;66;03m# Add the current set of data to the DataFrame using .loc[]\u001b[39;00m\n\u001b[0;32m     17\u001b[0m df\u001b[38;5;241m.\u001b[39mloc[\u001b[38;5;28mlen\u001b[39m(df)] \u001b[38;5;241m=\u001b[39m [name, affiliation, citation_count, h_index, i10_index, most_cited_paper, research_fields]\n\u001b[1;32m---> 19\u001b[0m \u001b[43mreturn_to_search\u001b[49m\u001b[43m(\u001b[49m\u001b[43m)\u001b[49m\n",
      "Cell \u001b[1;32mIn[37], line 5\u001b[0m, in \u001b[0;36mreturn_to_search\u001b[1;34m()\u001b[0m\n\u001b[0;32m      3\u001b[0m search_btn \u001b[38;5;241m=\u001b[39m driver\u001b[38;5;241m.\u001b[39mfind_element(By\u001b[38;5;241m.\u001b[39mCSS_SELECTOR, \u001b[38;5;124m\"\u001b[39m\u001b[38;5;124ma#gs_hdr_sre span.gs_ico\u001b[39m\u001b[38;5;124m\"\u001b[39m)\n\u001b[0;32m      4\u001b[0m search_btn\u001b[38;5;241m.\u001b[39mclick()\n\u001b[1;32m----> 5\u001b[0m \u001b[43mfake_human_behavior\u001b[49m\u001b[43m(\u001b[49m\u001b[43mdriver\u001b[49m\u001b[43m)\u001b[49m\n",
      "Cell \u001b[1;32mIn[29], line 10\u001b[0m, in \u001b[0;36mfake_human_behavior\u001b[1;34m(driver)\u001b[0m\n\u001b[0;32m      8\u001b[0m x_offset \u001b[38;5;241m=\u001b[39m random\u001b[38;5;241m.\u001b[39mrandint(\u001b[38;5;241m0\u001b[39m, \u001b[38;5;241m500\u001b[39m)  \u001b[38;5;66;03m# Adjust based on your viewport size\u001b[39;00m\n\u001b[0;32m      9\u001b[0m y_offset \u001b[38;5;241m=\u001b[39m random\u001b[38;5;241m.\u001b[39mrandint(\u001b[38;5;241m0\u001b[39m, \u001b[38;5;241m500\u001b[39m)  \u001b[38;5;66;03m# Adjust based on your viewport size\u001b[39;00m\n\u001b[1;32m---> 10\u001b[0m \u001b[43mactions\u001b[49m\u001b[38;5;241;43m.\u001b[39;49m\u001b[43mmove_by_offset\u001b[49m\u001b[43m(\u001b[49m\u001b[43mx_offset\u001b[49m\u001b[43m,\u001b[49m\u001b[43m \u001b[49m\u001b[43my_offset\u001b[49m\u001b[43m)\u001b[49m\u001b[38;5;241;43m.\u001b[39;49m\u001b[43mperform\u001b[49m\u001b[43m(\u001b[49m\u001b[43m)\u001b[49m\n\u001b[0;32m     11\u001b[0m time\u001b[38;5;241m.\u001b[39msleep(random\u001b[38;5;241m.\u001b[39muniform(\u001b[38;5;241m0.5\u001b[39m, \u001b[38;5;241m1.5\u001b[39m))  \u001b[38;5;66;03m# Pause after moving the mouse\u001b[39;00m\n\u001b[0;32m     13\u001b[0m \u001b[38;5;66;03m# Scroll down randomly\u001b[39;00m\n",
      "File \u001b[1;32mc:\\Users\\ashut\\AppData\\Local\\Programs\\Python\\Python312\\Lib\\site-packages\\selenium\\webdriver\\common\\action_chains.py:94\u001b[0m, in \u001b[0;36mActionChains.perform\u001b[1;34m(self)\u001b[0m\n\u001b[0;32m     92\u001b[0m \u001b[38;5;28;01mdef\u001b[39;00m \u001b[38;5;21mperform\u001b[39m(\u001b[38;5;28mself\u001b[39m) \u001b[38;5;241m-\u001b[39m\u001b[38;5;241m>\u001b[39m \u001b[38;5;28;01mNone\u001b[39;00m:\n\u001b[0;32m     93\u001b[0m \u001b[38;5;250m    \u001b[39m\u001b[38;5;124;03m\"\"\"Performs all stored actions.\"\"\"\u001b[39;00m\n\u001b[1;32m---> 94\u001b[0m     \u001b[38;5;28;43mself\u001b[39;49m\u001b[38;5;241;43m.\u001b[39;49m\u001b[43mw3c_actions\u001b[49m\u001b[38;5;241;43m.\u001b[39;49m\u001b[43mperform\u001b[49m\u001b[43m(\u001b[49m\u001b[43m)\u001b[49m\n",
      "File \u001b[1;32mc:\\Users\\ashut\\AppData\\Local\\Programs\\Python\\Python312\\Lib\\site-packages\\selenium\\webdriver\\common\\actions\\action_builder.py:96\u001b[0m, in \u001b[0;36mActionBuilder.perform\u001b[1;34m(self)\u001b[0m\n\u001b[0;32m     94\u001b[0m         enc[\u001b[38;5;124m\"\u001b[39m\u001b[38;5;124mactions\u001b[39m\u001b[38;5;124m\"\u001b[39m]\u001b[38;5;241m.\u001b[39mappend(encoded)\n\u001b[0;32m     95\u001b[0m         device\u001b[38;5;241m.\u001b[39mactions \u001b[38;5;241m=\u001b[39m []\n\u001b[1;32m---> 96\u001b[0m \u001b[38;5;28;43mself\u001b[39;49m\u001b[38;5;241;43m.\u001b[39;49m\u001b[43mdriver\u001b[49m\u001b[38;5;241;43m.\u001b[39;49m\u001b[43mexecute\u001b[49m\u001b[43m(\u001b[49m\u001b[43mCommand\u001b[49m\u001b[38;5;241;43m.\u001b[39;49m\u001b[43mW3C_ACTIONS\u001b[49m\u001b[43m,\u001b[49m\u001b[43m \u001b[49m\u001b[43menc\u001b[49m\u001b[43m)\u001b[49m\n",
      "File \u001b[1;32mc:\\Users\\ashut\\AppData\\Local\\Programs\\Python\\Python312\\Lib\\site-packages\\selenium\\webdriver\\remote\\webdriver.py:348\u001b[0m, in \u001b[0;36mWebDriver.execute\u001b[1;34m(self, driver_command, params)\u001b[0m\n\u001b[0;32m    346\u001b[0m response \u001b[38;5;241m=\u001b[39m \u001b[38;5;28mself\u001b[39m\u001b[38;5;241m.\u001b[39mcommand_executor\u001b[38;5;241m.\u001b[39mexecute(driver_command, params)\n\u001b[0;32m    347\u001b[0m \u001b[38;5;28;01mif\u001b[39;00m response:\n\u001b[1;32m--> 348\u001b[0m     \u001b[38;5;28;43mself\u001b[39;49m\u001b[38;5;241;43m.\u001b[39;49m\u001b[43merror_handler\u001b[49m\u001b[38;5;241;43m.\u001b[39;49m\u001b[43mcheck_response\u001b[49m\u001b[43m(\u001b[49m\u001b[43mresponse\u001b[49m\u001b[43m)\u001b[49m\n\u001b[0;32m    349\u001b[0m     response[\u001b[38;5;124m\"\u001b[39m\u001b[38;5;124mvalue\u001b[39m\u001b[38;5;124m\"\u001b[39m] \u001b[38;5;241m=\u001b[39m \u001b[38;5;28mself\u001b[39m\u001b[38;5;241m.\u001b[39m_unwrap_value(response\u001b[38;5;241m.\u001b[39mget(\u001b[38;5;124m\"\u001b[39m\u001b[38;5;124mvalue\u001b[39m\u001b[38;5;124m\"\u001b[39m, \u001b[38;5;28;01mNone\u001b[39;00m))\n\u001b[0;32m    350\u001b[0m     \u001b[38;5;28;01mreturn\u001b[39;00m response\n",
      "File \u001b[1;32mc:\\Users\\ashut\\AppData\\Local\\Programs\\Python\\Python312\\Lib\\site-packages\\selenium\\webdriver\\remote\\errorhandler.py:229\u001b[0m, in \u001b[0;36mErrorHandler.check_response\u001b[1;34m(self, response)\u001b[0m\n\u001b[0;32m    227\u001b[0m         alert_text \u001b[38;5;241m=\u001b[39m value[\u001b[38;5;124m\"\u001b[39m\u001b[38;5;124malert\u001b[39m\u001b[38;5;124m\"\u001b[39m]\u001b[38;5;241m.\u001b[39mget(\u001b[38;5;124m\"\u001b[39m\u001b[38;5;124mtext\u001b[39m\u001b[38;5;124m\"\u001b[39m)\n\u001b[0;32m    228\u001b[0m     \u001b[38;5;28;01mraise\u001b[39;00m exception_class(message, screen, stacktrace, alert_text)  \u001b[38;5;66;03m# type: ignore[call-arg]  # mypy is not smart enough here\u001b[39;00m\n\u001b[1;32m--> 229\u001b[0m \u001b[38;5;28;01mraise\u001b[39;00m exception_class(message, screen, stacktrace)\n",
      "\u001b[1;31mMoveTargetOutOfBoundsException\u001b[0m: Message: move target out of bounds\n  (Session info: chrome=129.0.6668.70)\nStacktrace:\n\tGetHandleVerifier [0x00007FF69919FDA5+29557]\n\t(No symbol) [0x00007FF699112240]\n\t(No symbol) [0x00007FF698FCB519]\n\t(No symbol) [0x00007FF6990726FF]\n\t(No symbol) [0x00007FF6990474FA]\n\t(No symbol) [0x00007FF6990688A3]\n\t(No symbol) [0x00007FF6990472A3]\n\t(No symbol) [0x00007FF6990112DF]\n\t(No symbol) [0x00007FF699012451]\n\tGetHandleVerifier [0x00007FF6994CDCBD+3363469]\n\tGetHandleVerifier [0x00007FF699519B47+3674391]\n\tGetHandleVerifier [0x00007FF69950EAEB+3629243]\n\tGetHandleVerifier [0x00007FF69925FC66+815670]\n\t(No symbol) [0x00007FF69911D6EF]\n\t(No symbol) [0x00007FF6991192B4]\n\t(No symbol) [0x00007FF699119450]\n\t(No symbol) [0x00007FF6991081FF]\n\tBaseThreadInitThunk [0x00007FF8437D257D+29]\n\tRtlUserThreadStart [0x00007FF844FCAF28+40]\n"
     ]
    }
   ],
   "source": [
    "for scholar in Scholars_list:\n",
    "    search_professor(scholar)\n",
    "    \n",
    "    # Only attempt to switch to the author list the first time\n",
    "    switch_to_author_list()\n",
    "    \n",
    "    select_first_profile()\n",
    "    \n",
    "    # Part 1: Scrape the textual profile details\n",
    "    scrape_text()\n",
    "\n",
    "    toggle_data_tab()\n",
    "    # Part 2: Scrape the citation statistics\n",
    "    scrape_stats()\n",
    "\n",
    "    # Add the current set of data to the DataFrame using .loc[]\n",
    "    df.loc[len(df)] = [name, affiliation, citation_count, h_index, i10_index, most_cited_paper, research_fields]\n",
    "\n",
    "    return_to_search()"
   ]
  },
  {
   "cell_type": "markdown",
   "metadata": {},
   "source": [
    "Epilogue"
   ]
  },
  {
   "cell_type": "code",
   "execution_count": 18,
   "metadata": {},
   "outputs": [],
   "source": [
    "# After the loop, quit the driver\n",
    "driver.quit()"
   ]
  },
  {
   "cell_type": "code",
   "execution_count": 19,
   "metadata": {},
   "outputs": [],
   "source": [
    "# Save the data to CSV\n",
    "df.to_csv('professor_profiles.csv', index=False)"
   ]
  },
  {
   "cell_type": "code",
   "execution_count": 20,
   "metadata": {},
   "outputs": [
    {
     "name": "stdout",
     "output_type": "stream",
     "text": [
      "Scraping complete. Data saved to 'professor_profiles.csv'.\n"
     ]
    }
   ],
   "source": [
    "# Print \"Scraping complete. Data saved to 'professor_profiles.csv'.\"\n",
    "print(\"Scraping complete. Data saved to 'professor_profiles.csv'.\")"
   ]
  }
 ],
 "metadata": {
  "kernelspec": {
   "display_name": "Python 3",
   "language": "python",
   "name": "python3"
  },
  "language_info": {
   "codemirror_mode": {
    "name": "ipython",
    "version": 3
   },
   "file_extension": ".py",
   "mimetype": "text/x-python",
   "name": "python",
   "nbconvert_exporter": "python",
   "pygments_lexer": "ipython3",
   "version": "3.12.4"
  }
 },
 "nbformat": 4,
 "nbformat_minor": 2
}
